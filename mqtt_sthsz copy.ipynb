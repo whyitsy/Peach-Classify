{
 "cells": [
  {
   "cell_type": "code",
   "execution_count": 277,
   "id": "9a9ad244-014e-4655-827c-921e622ecd0d",
   "metadata": {},
   "outputs": [],
   "source": [
    "# 导入库\n",
    "import paho.mqtt.client as ph_mqtt_clt\n",
    "import json\n",
    "import threading\n",
    "import base64\n",
    "import requests\n",
    "import time\n",
    "from enum import Enum\n",
    "from collections import deque\n"
   ]
  },
  {
   "cell_type": "code",
   "execution_count": 278,
   "id": "3a2b8a40-8a79-438c-8164-e6ed74343d3f",
   "metadata": {},
   "outputs": [],
   "source": [
    "class Mqtt_Clt():\n",
    "    \"\"\"\n",
    "    用于表征Mqtt客户端的类\n",
    "    \"\"\"\n",
    "    def __init__(self, ip_broker, port_broker, topic_sub, topic_pub, time_out_secs):\n",
    "        \"\"\"\n",
    "        parameters:ip_broker:broker的IP地址\n",
    "                   port_broker:连接服务的端口\n",
    "                   topic_sub:订阅话题/订阅名称\n",
    "                   topic_pub:发布话题/发布名称\n",
    "                   time_out_secs:连接超时的时间\n",
    "        \"\"\"\n",
    "        self.mqtt_clt = ph_mqtt_clt.Client()    # 构造Mqtt客户端\n",
    "        self.mqtt_clt.on_message = self.on_message  # 设置Mqtt客户端回调on_message为本类成员方法on_message\n",
    "        self.topic_sub = topic_sub  # 设置订阅话题\n",
    "        self.topic_pub = topic_pub  # 设置发布话题\n",
    "        self.msg = {}   # 初始化接收消息的字典类成员变量msg为空({})\n",
    "        self.mqtt_clt.connect(ip_broker, port_broker, time_out_secs)    # 连接Mqtt Broker\n",
    "        self.mqtt_clt.subscribe(self.topic_sub, qos=2)  # 订阅相关话题\n",
    "        self.mqtt_clt.loop_start()  # 开启接收循环 开启独立的线程来循环是否有消息通讯\n",
    "\n",
    "    def __del__(self):\n",
    "        self.mqtt_clt.loop_forever()    # 结束接收循环\n",
    "        self.mqtt_clt.disconnect()  # 断开连接\n",
    "\n",
    "\n",
    "    def on_message(self, client, userdata, message):\n",
    "        \"\"\"\n",
    "        parameters:client:回调返回的客户端实例\n",
    "                   userdata:Client()或user_data_set()中设置的私有用户数据\n",
    "                   msg:MQTTMessage实例,包含topic,payload,qos,retain\n",
    "        functions:接收消息的回调,提取消息中的相关内容\n",
    "        \"\"\"\n",
    "        # self.msg = json.loads(message.payload.decode())\n",
    "        # 这里用其他线程来解放on_message独占线程的问题\n",
    "        threading.Thread(target=self.handle_on_message,args=(message,)).start()\n",
    "        # print(\"%%%%%%%%%%%%\")\n",
    "        # print(\"msg_json:\", self.msg)\n",
    "    \n",
    "    def handle_on_message(self,message):\n",
    "        self.msg = json.loads(message.payload.decode())\n",
    "\n",
    "    def send_json_msg(self, msg):\n",
    "        \"\"\"\n",
    "        parameters:msg:json消息\n",
    "        returns:无\n",
    "        functions:在指定的话题上发布消息\n",
    "        \"\"\"\n",
    "        # retain参数:一个 topic 只能存在一条 Retained 消息，发布新的 Retained 消息将会覆盖旧消息\n",
    "        # 只有新的订阅者才能够收到 Retained 消息\n",
    "        # MQTT客户端 好像是单线程的，无法同时处理订阅和发布 这里要用其他线程来实现\n",
    "        threading.Thread(target=self.mqtt_clt.publish(self.topic_pub, payload=\"{}\".format(msg))).start()\n",
    "        # info = self.mqtt_clt.publish(self.topic_pub, payload=\"{}\".format(msg))\n",
    "        # print(\"published:True\",end=\" \") if info.is_published else print(\"publish:False\",end=\" \")\n",
    "        print(msg)\n",
    "        \n",
    "    def control_device(self, str_key, str_value):\n",
    "        \"\"\"\n",
    "        parameters:str_key:键的字符串\n",
    "                   str_value:值的字符串\n",
    "        functions:控制设备\n",
    "        \"\"\"\n",
    "        self.send_json_msg(json.dumps({str_key: str_value}))"
   ]
  },
  {
   "cell_type": "code",
   "execution_count": 279,
   "id": "862f909d-6adc-46dd-88a2-763f2f1198ff",
   "metadata": {},
   "outputs": [],
   "source": [
    "class PosObj(Enum):\n",
    "    \"\"\"\n",
    "    物体的位置\n",
    "    \"\"\"\n",
    "    before_1st = 0  # 在1号对管之前\n",
    "    at_1st = 1  # 在1号对管处\n",
    "    between_1st_and_2nd = 2 # 在1,2号对管之间\n",
    "    at_2nd = 3  # 在2号对管处\n",
    "    between_2nd_and_3rd = 4 # 在2,3号对管之间\n",
    "    at_3rd = 5  # 在3号对管处\n",
    "    beyond_3rd = 6  # 在3号对管之后"
   ]
  },
  {
   "cell_type": "code",
   "execution_count": 280,
   "id": "540c4d0e-b923-49e2-b1fc-7dd966621598",
   "metadata": {},
   "outputs": [],
   "source": [
    "class StateRod(Enum):\n",
    "    \"\"\"\n",
    "    推杆状态\n",
    "    \"\"\"\n",
    "    stop = 0    # 停止\n",
    "    push = 1    # 推出\n",
    "    pull = 2    # 拉回"
   ]
  },
  {
   "cell_type": "code",
   "execution_count": 281,
   "id": "cb80b6ba-0216-4899-91d4-fdb256f38d64",
   "metadata": {},
   "outputs": [],
   "source": [
    "class FS_IIOTA():\n",
    "    \"\"\"\n",
    "    表征智能分拣系统行为的类\n",
    "    \"\"\"\n",
    "    def __init__(self, ip_mqtt_broker, website_back_end):\n",
    "        \"\"\"\n",
    "        parameters:ip_mqtt_broker:Mqtt broker的IP地址\n",
    "                   website_back_end:用于识别的服务端(后端)网址\n",
    "        \"\"\"\n",
    "        self.mqtt_clt = Mqtt_Clt(ip_mqtt_broker, 1883, \"bb\", \"aa\",\n",
    "                                50)    # 构造Mqtt客户端\n",
    "        self.website_back_end = website_back_end    # 获取用于识别的后端网址\n",
    "        self.stat_stack_rod = StateRod.stop # 认为当前上货杆(1号推杆)停止\n",
    "        self.stat_classify_rod = StateRod.stop  # 认为当前分类杆(2/3/4号推杆停止)\n",
    "        self.mqtt_clt.control_device(\"conveyor\", \"run\") # 控制传送带运行\n",
    "        ####################################################\n",
    "        time.sleep(3) \n",
    "        ####################################################\n",
    "        self.timer_stack_rod = threading.Timer(1, self.handle_timer_statck_rod)  \n",
    "        self.timer_classify_rod = None  # 初始化分类杆再次动作的定时器\n",
    "        # 先发送消息将货推出再将上货杆设置为推出状态\n",
    "        self.mqtt_clt.control_device(\"rod_control\", \"first_push\")   # 控制上货杆推\n",
    "        self.stat_stack_rod = StateRod.push # 将上货杆的状态设为推出\n",
    "        self.timer_stack_rod.start()    # 启动上货杆再次动作的定时器\n",
    "        # 定义3个分层队列保存每个对象\n",
    "        self.q1 = deque()   \n",
    "        self.q2 = deque()   \n",
    "        self.q3 = deque()   \n",
    "\n",
    "    def __del__(self):\n",
    "        self.mqtt_clt.control_device(\"rod_control\", \"all_pull\") # 控制所有推杆拉回\n",
    "        time.sleep(3)\n",
    "        self.mqtt_clt.control_device(\"conveyor\", \"stop\")    # 控制传送带停止\n",
    "        time.sleep(1)\n",
    "\n",
    "    def handle_mqtt_json_msg(self, total_tolerance):\n",
    "        \"\"\"\n",
    "        functions:以循环的方式对Mqtt客户端的有效消息进行处理,在发生异常的时候记录异常总次数;并触发相应的状态机\n",
    "        \"\"\"\n",
    "        cnt_except = 0  # 定义发生异常的计数量(初始化为0)\n",
    "        while cnt_except < total_tolerance: # 在发生异常的计数量小于容忍值时一直循环\n",
    "            if self.mqtt_clt.msg != {}: # 在mqtt接收到的消息非空时\n",
    "                # 这里并不是每0.3s就有图片发过来的 应该是有图片过的时候才发送消息 \n",
    "                if \"image\" in self.mqtt_clt.msg:    # 如果接收到的是图像的话\n",
    "                    img_data = base64.b64decode(self.mqtt_clt.msg[\"image\"]) # 解码获得图像数据\n",
    "                    try:\n",
    "                        result = json.loads(requests.post(self.website_back_end, data=img_data).text)   # 将图像数据img_data给POST出去并获得相应的结果result\n",
    "                        try:\n",
    "                            assert len(result[\"results\"]) == 1  # 确保识别结果result中的键\"results\"中的值只有1个\n",
    "                            label = result[\"results\"][0][\"label\"]   # 获得识别结果中的label\n",
    "                            # print(\"lable=\",label)\n",
    "                            # 这是在图像采集区域，位置都是1号对管之前\n",
    "                            if label == \"ripe\": \n",
    "                                self.q1.appendleft(2)\n",
    "                            elif label == \"half-ripe\":  \n",
    "                                self.q1.appendleft(3)\n",
    "                            elif label == \"raw\":   \n",
    "                                self.q1.appendleft(4)\n",
    "                            else:\n",
    "                                print(\"三分类以外的分支\")\n",
    "                        except: # 获得结果时发生异常,则cnt_except自加1\n",
    "                            print(\"未获得有效结果!\")\n",
    "                            cnt_except += 1\n",
    "                            print(\"cnt_except += 1\")\n",
    "                    except: # post时发生异常,则cnt_except自加1\n",
    "                        print(\"无法post!\")\n",
    "                        cnt_except += 1\n",
    "                        print(\"cnt_except += 1\")\n",
    "                elif \"first_switch\" in self.mqtt_clt.msg: # 如果接收到的是1号对管的消息 判断是进还是出 此时obj对象已被创建\n",
    "                    if not self.mqtt_clt.msg[\"first_switch\"]:  # 出1号对管\n",
    "                        obj = self.q1.pop()\n",
    "                        # 这里判断是否在2号分类杆这里分类-如果不分类则加入下一个队列\n",
    "                        # 0.3\n",
    "                        # threading.Timer(0.3, self.state_machine,(obj,)).start() if obj == 2 else self.q2.appendleft(obj) \n",
    "                        threading.Thread(target=self.state_machine,args=(obj,)).start() if obj == 2 else self.q2.appendleft(obj) \n",
    "                elif \"second_switch\" in self.mqtt_clt.msg:  # 如果接收到的是2号对管的消息\n",
    "                    if not self.mqtt_clt.msg[\"second_switch\"]:  # 进2号对管\n",
    "                        obj = self.q2.pop()\n",
    "                        # self.state_machine(obj) if obj == 3 else self.q3.appendleft(obj) \n",
    "                        # 0.4\n",
    "                        # threading.Timer(0.4, self.state_machine,(obj,)).start() if obj == 3 else self.q3.appendleft(obj) \n",
    "                        threading.Thread(target=self.state_machine,args=(obj,)).start() if obj == 3 else self.q3.appendleft(obj) \n",
    "                elif \"third_switch\" in self.mqtt_clt.msg:   # 如果接收到的是3号对管的消息\n",
    "                    if not self.mqtt_clt.msg[\"third_switch\"]:   # 进3号对管\n",
    "                        obj = self.q3.pop()\n",
    "                        # 这里有一个坑！，如果每个分类杆单独行动 会出现ripe和raw杆同时推出的问题 同时发送消息导致消息发送失败(应该) 分类杆就收不回去\n",
    "                        # 0.5\n",
    "                        # threading.Timer(0.4, self.state_machine,(4,)).start()\n",
    "                        threading.Thread(target=self.state_machine,args=(obj,)).start()\n",
    "                        # self.state_machine(4)\n",
    "\n",
    "                self.mqtt_clt.msg = {}  # 清空mqtt接收到的消息\n",
    "\n",
    "    def handle_timer_statck_rod(self):\n",
    "        \"\"\"\n",
    "        functions:对上货杆的状态进行分情况讨论:\n",
    "        如果当前上货杆状态为推出,说明上货杆已经完全推出,需要令上货杆拉回;\n",
    "        否则,如果上货杆状态为拉回,说明上货杆已经完全拉回,需要将上货杆的状态改为停止\n",
    "        \"\"\"\n",
    "        if self.stat_stack_rod == StateRod.push:\n",
    "            # print(\"上货杆已push,现在pull\")\n",
    "            # 发送将第一个杆(货杆)拉回的消息 然后设置为pull状态\n",
    "            self.mqtt_clt.control_device(\"rod_control\", \"first_pull\")\n",
    "            self.stat_stack_rod = StateRod.pull\n",
    "            ####################################################\n",
    "            # 设置一个再次调用上货杆的定时器  \n",
    "            # self.timer_stack_rod = threading.Timer(random.uniform(1,1.5), self.handle_timer_statck_rod) # 原3.5s\n",
    "            self.timer_stack_rod = threading.Timer(1, self.handle_timer_statck_rod) # 原3.5s\n",
    "            self.timer_stack_rod.start()\n",
    "        elif self.stat_stack_rod == StateRod.pull:\n",
    "            # print(\"上货杆已pull,现在push\")\n",
    "            self.stat_stack_rod = StateRod.stop\n",
    "            ####################################################\n",
    "            self.mqtt_clt.control_device(\"rod_control\", \"first_push\")\n",
    "            self.stat_stack_rod = StateRod.push\n",
    "            self.timer_stack_rod = threading.Timer(0.5, self.handle_timer_statck_rod)\n",
    "            self.timer_stack_rod.start()\n",
    "    \n",
    "\n",
    "    def handle_timer_classify_rod(self,act_num):\n",
    "        \"\"\"\n",
    "        functions:对分类杆的状态进行分情况讨论:\n",
    "        如果当前分类杆的状态为推出,说明分类杆已完全推出,需要让相应的分类杆拉回\n",
    "        否则,如果当前分类杆的状态为拉回,说明分类杆已完全拉回,需要重置分类杆相关成员并令上货杆推出\n",
    "        \"\"\"\n",
    "        # print(f\"{act_num}号杆需要拉回\")\n",
    "        # if self.stat_classify_rod == StateRod.push:\n",
    "        str_classify_rod_cmd = \"\"\n",
    "        if act_num == 2:\n",
    "            # str_classify_rod_cmd = \"second\"\n",
    "            str_classify_rod_cmd = \"second_pull\"\n",
    "            self.mqtt_clt.control_device(\"rod_control\", str_classify_rod_cmd)\n",
    "        elif act_num == 3:\n",
    "            # str_classify_rod_cmd = \"third\"\n",
    "            str_classify_rod_cmd = \"third_pull\"\n",
    "            self.mqtt_clt.control_device(\"rod_control\", str_classify_rod_cmd)\n",
    "        elif act_num == 4:\n",
    "            # str_classify_rod_cmd = \"fourth\"\n",
    "            str_classify_rod_cmd = \"fourth_pull\"\n",
    "            self.mqtt_clt.control_device(\"rod_control\", str_classify_rod_cmd)\n",
    "        # else:\n",
    "        #     print(\"出现第四条路m,GGGG\")\n",
    "            # str_classify_rod_cmd += \"_pull\"\n",
    "            # self.mqtt_clt.control_device(\"rod_control\", str_classify_rod_cmd)\n",
    "            # self.stat_classify_rod = StateRod.pull  # 分类杆状态变为拉回\n",
    "            ####################################################\n",
    "            # 启动分类杆动作相关定时器 \n",
    "            # self.timer_classify_rod = await threading.Timer(0.35, self.handle_timer_classify_rod,(act_num,)) # 原3s\n",
    "            # self.timer_classify_rod.start()\n",
    "        #     self.handle_timer_classify_rod(act_num) \n",
    "        # elif self.stat_classify_rod == StateRod.pull:\n",
    "        #     self.stat_classify_rod = StateRod.stop  # 分类杆状态为停止\n",
    "        #     print(f\"{act_num}号杆已停止\")\n",
    "\n",
    "           \n",
    "\n",
    "    # 对状态机进行修改，只负责控制传来的act_num对应的分类杆\n",
    "    def state_machine(self,act_num):\n",
    "        \"\"\"\n",
    "        functions:以状态机的方法通过物体当前位置以及将要推出的分类杆的编号控制分类杆/上货杆推出,并对相应的状态成员变量进行重设\n",
    "        \"\"\"\n",
    "        # print(f\"{act_num}号杆需要推出\")\n",
    "        if act_num  == 2:  # 当需要2号推杆动作的时候\n",
    "            # 推出2号推杆并启动分类杆相关定时器(为了完成后续的动作)\n",
    "            self.mqtt_clt.control_device(\"rod_control\", \"second_push\")\n",
    "            # print(\"2号杆推出消息发出\")\n",
    "            self.stat_classify_rod = StateRod.push\n",
    "            ####################################################\n",
    "            # Timer时间后拉回分类杆\n",
    "            self.timer_classify_rod = threading.Timer(0.3, self.handle_timer_classify_rod,(2,)).start()\n",
    "            # self.timer_classify_rod.start()\n",
    "            # threading.Thread(target=self.handle_timer_classify_rod,args=((2,))).start()\n",
    "        elif act_num == 3:    # 当需要3号推杆动作的时候\n",
    "            # 推出3号推杆并启动分类杆相关定时器(为了完成后续的动作)\n",
    "            self.mqtt_clt.control_device(\"rod_control\", \"third_push\")\n",
    "            # print(\"3号杆推出消息发出\")\n",
    "            self.stat_classify_rod = StateRod.push\n",
    "            ####################################################\n",
    "            self.timer_classify_rod = threading.Timer(0.4, self.handle_timer_classify_rod,(3,)).start()\n",
    "            # self.timer_classify_rod.start()\n",
    "            # threading.Thread(target=self.handle_timer_classify_rod,args=((3,))).start()\n",
    "        elif act_num == 4:    # 当需要4号推杆动作的时候\n",
    "            # 推出4号推杆并启动分类杆相关定时器(为了完成后续的动作)\n",
    "            self.mqtt_clt.control_device(\"rod_control\", \"fourth_push\")    \n",
    "            # print(\"4号杆推出消息发出\")  \n",
    "            self.stat_classify_rod = StateRod.push\n",
    "            ####################################################\n",
    "            self.timer_classify_rod = threading.Timer(0.5, self.handle_timer_classify_rod,(4,)).start()\n",
    "            # self.timer_classify_rod.start()\n",
    "            # threading.Thread(target=self.handle_timer_classify_rod,args=((4,))).start()\n",
    "           "
   ]
  },
  {
   "cell_type": "code",
   "execution_count": null,
   "id": "be1a177e-2d0c-4035-a9de-6639a3ced0a1",
   "metadata": {},
   "outputs": [
    {
     "name": "stderr",
     "output_type": "stream",
     "text": [
      "Exception in thread Thread-11364:\n",
      "Traceback (most recent call last):\n",
      "  File \"c:\\Users\\JIA\\AppData\\Local\\Programs\\Python\\Python310\\lib\\threading.py\", line 1016, in _bootstrap_inner\n",
      "    self.run()\n",
      "  File \"c:\\Users\\JIA\\AppData\\Local\\Programs\\Python\\Python310\\lib\\threading.py\", line 953, in run\n",
      "    self._target(*self._args, **self._kwargs)\n",
      "TypeError: 'MQTTMessageInfo' object is not callable\n"
     ]
    },
    {
     "name": "stdout",
     "output_type": "stream",
     "text": [
      "{\"rod_control\": \"first_push\"}\n"
     ]
    },
    {
     "name": "stderr",
     "output_type": "stream",
     "text": [
      "Exception in thread Thread-11366:\n",
      "Traceback (most recent call last):\n",
      "  File \"c:\\Users\\JIA\\AppData\\Local\\Programs\\Python\\Python310\\lib\\threading.py\", line 1016, in _bootstrap_inner\n",
      "    self.run()\n",
      "  File \"c:\\Users\\JIA\\AppData\\Local\\Programs\\Python\\Python310\\lib\\threading.py\", line 953, in run\n",
      "    self._target(*self._args, **self._kwargs)\n",
      "TypeError: 'MQTTMessageInfo' object is not callable\n"
     ]
    },
    {
     "name": "stdout",
     "output_type": "stream",
     "text": [
      "{\"rod_control\": \"first_pull\"}\n"
     ]
    },
    {
     "name": "stderr",
     "output_type": "stream",
     "text": [
      "Exception in thread Thread-11368:\n",
      "Traceback (most recent call last):\n",
      "  File \"c:\\Users\\JIA\\AppData\\Local\\Programs\\Python\\Python310\\lib\\threading.py\", line 1016, in _bootstrap_inner\n",
      "    self.run()\n",
      "  File \"c:\\Users\\JIA\\AppData\\Local\\Programs\\Python\\Python310\\lib\\threading.py\", line 953, in run\n",
      "    self._target(*self._args, **self._kwargs)\n",
      "TypeError: 'MQTTMessageInfo' object is not callable\n"
     ]
    },
    {
     "name": "stdout",
     "output_type": "stream",
     "text": [
      "{\"rod_control\": \"first_push\"}\n"
     ]
    },
    {
     "name": "stderr",
     "output_type": "stream",
     "text": [
      "Exception in thread Thread-11370:\n",
      "Traceback (most recent call last):\n",
      "  File \"c:\\Users\\JIA\\AppData\\Local\\Programs\\Python\\Python310\\lib\\threading.py\", line 1016, in _bootstrap_inner\n",
      "    self.run()\n",
      "  File \"c:\\Users\\JIA\\AppData\\Local\\Programs\\Python\\Python310\\lib\\threading.py\", line 953, in run\n",
      "    self._target(*self._args, **self._kwargs)\n",
      "TypeError: 'MQTTMessageInfo' object is not callable\n"
     ]
    },
    {
     "name": "stdout",
     "output_type": "stream",
     "text": [
      "{\"rod_control\": \"first_pull\"}\n"
     ]
    },
    {
     "name": "stderr",
     "output_type": "stream",
     "text": [
      "Exception in thread Thread-11372:\n",
      "Traceback (most recent call last):\n",
      "  File \"c:\\Users\\JIA\\AppData\\Local\\Programs\\Python\\Python310\\lib\\threading.py\", line 1016, in _bootstrap_inner\n",
      "    self.run()\n",
      "  File \"c:\\Users\\JIA\\AppData\\Local\\Programs\\Python\\Python310\\lib\\threading.py\", line 953, in run\n",
      "    self._target(*self._args, **self._kwargs)\n",
      "TypeError: 'MQTTMessageInfo' object is not callable\n"
     ]
    },
    {
     "name": "stdout",
     "output_type": "stream",
     "text": [
      "{\"rod_control\": \"first_push\"}\n"
     ]
    },
    {
     "name": "stderr",
     "output_type": "stream",
     "text": [
      "Exception in thread Thread-11374:\n",
      "Traceback (most recent call last):\n",
      "  File \"c:\\Users\\JIA\\AppData\\Local\\Programs\\Python\\Python310\\lib\\threading.py\", line 1016, in _bootstrap_inner\n",
      "    self.run()\n",
      "  File \"c:\\Users\\JIA\\AppData\\Local\\Programs\\Python\\Python310\\lib\\threading.py\", line 953, in run\n",
      "    self._target(*self._args, **self._kwargs)\n",
      "TypeError: 'MQTTMessageInfo' object is not callable\n"
     ]
    },
    {
     "name": "stdout",
     "output_type": "stream",
     "text": [
      "{\"rod_control\": \"first_pull\"}\n"
     ]
    },
    {
     "name": "stderr",
     "output_type": "stream",
     "text": [
      "Exception in thread Thread-11376:\n",
      "Traceback (most recent call last):\n",
      "  File \"c:\\Users\\JIA\\AppData\\Local\\Programs\\Python\\Python310\\lib\\threading.py\", line 1016, in _bootstrap_inner\n",
      "    self.run()\n",
      "  File \"c:\\Users\\JIA\\AppData\\Local\\Programs\\Python\\Python310\\lib\\threading.py\", line 953, in run\n",
      "    self._target(*self._args, **self._kwargs)\n",
      "TypeError: 'MQTTMessageInfo' object is not callable\n"
     ]
    },
    {
     "name": "stdout",
     "output_type": "stream",
     "text": [
      "{\"rod_control\": \"first_push\"}\n"
     ]
    },
    {
     "name": "stderr",
     "output_type": "stream",
     "text": [
      "Exception in thread Thread-11378:\n",
      "Traceback (most recent call last):\n",
      "  File \"c:\\Users\\JIA\\AppData\\Local\\Programs\\Python\\Python310\\lib\\threading.py\", line 1016, in _bootstrap_inner\n",
      "    self.run()\n",
      "  File \"c:\\Users\\JIA\\AppData\\Local\\Programs\\Python\\Python310\\lib\\threading.py\", line 953, in run\n",
      "    self._target(*self._args, **self._kwargs)\n",
      "TypeError: 'MQTTMessageInfo' object is not callable\n"
     ]
    },
    {
     "name": "stdout",
     "output_type": "stream",
     "text": [
      "{\"rod_control\": \"first_pull\"}\n"
     ]
    },
    {
     "name": "stderr",
     "output_type": "stream",
     "text": [
      "Exception in thread Thread-11380:\n",
      "Traceback (most recent call last):\n",
      "  File \"c:\\Users\\JIA\\AppData\\Local\\Programs\\Python\\Python310\\lib\\threading.py\", line 1016, in _bootstrap_inner\n",
      "    self.run()\n",
      "  File \"c:\\Users\\JIA\\AppData\\Local\\Programs\\Python\\Python310\\lib\\threading.py\", line 953, in run\n",
      "    self._target(*self._args, **self._kwargs)\n",
      "TypeError: 'MQTTMessageInfo' object is not callable\n"
     ]
    },
    {
     "name": "stdout",
     "output_type": "stream",
     "text": [
      "{\"rod_control\": \"first_push\"}\n"
     ]
    },
    {
     "name": "stderr",
     "output_type": "stream",
     "text": [
      "Exception in thread Thread-11382:\n",
      "Traceback (most recent call last):\n",
      "  File \"c:\\Users\\JIA\\AppData\\Local\\Programs\\Python\\Python310\\lib\\threading.py\", line 1016, in _bootstrap_inner\n",
      "    self.run()\n",
      "  File \"c:\\Users\\JIA\\AppData\\Local\\Programs\\Python\\Python310\\lib\\threading.py\", line 953, in run\n",
      "    self._target(*self._args, **self._kwargs)\n",
      "TypeError: 'MQTTMessageInfo' object is not callable\n"
     ]
    },
    {
     "name": "stdout",
     "output_type": "stream",
     "text": [
      "{\"rod_control\": \"first_pull\"}\n"
     ]
    },
    {
     "name": "stderr",
     "output_type": "stream",
     "text": [
      "Exception in thread Thread-11384:\n",
      "Traceback (most recent call last):\n",
      "  File \"c:\\Users\\JIA\\AppData\\Local\\Programs\\Python\\Python310\\lib\\threading.py\", line 1016, in _bootstrap_inner\n",
      "    self.run()\n",
      "  File \"c:\\Users\\JIA\\AppData\\Local\\Programs\\Python\\Python310\\lib\\threading.py\", line 953, in run\n",
      "    self._target(*self._args, **self._kwargs)\n",
      "TypeError: 'MQTTMessageInfo' object is not callable\n"
     ]
    },
    {
     "name": "stdout",
     "output_type": "stream",
     "text": [
      "{\"rod_control\": \"first_push\"}\n"
     ]
    },
    {
     "name": "stderr",
     "output_type": "stream",
     "text": [
      "Exception in thread Thread-11386:\n",
      "Traceback (most recent call last):\n",
      "  File \"c:\\Users\\JIA\\AppData\\Local\\Programs\\Python\\Python310\\lib\\threading.py\", line 1016, in _bootstrap_inner\n",
      "    self.run()\n",
      "  File \"c:\\Users\\JIA\\AppData\\Local\\Programs\\Python\\Python310\\lib\\threading.py\", line 953, in run\n",
      "    self._target(*self._args, **self._kwargs)\n",
      "TypeError: 'MQTTMessageInfo' object is not callable\n"
     ]
    },
    {
     "name": "stdout",
     "output_type": "stream",
     "text": [
      "{\"rod_control\": \"first_pull\"}\n"
     ]
    },
    {
     "name": "stderr",
     "output_type": "stream",
     "text": [
      "Exception in thread Thread-11388:\n",
      "Traceback (most recent call last):\n",
      "  File \"c:\\Users\\JIA\\AppData\\Local\\Programs\\Python\\Python310\\lib\\threading.py\", line 1016, in _bootstrap_inner\n",
      "    self.run()\n",
      "  File \"c:\\Users\\JIA\\AppData\\Local\\Programs\\Python\\Python310\\lib\\threading.py\", line 953, in run\n",
      "    self._target(*self._args, **self._kwargs)\n",
      "TypeError: 'MQTTMessageInfo' object is not callable\n"
     ]
    },
    {
     "name": "stdout",
     "output_type": "stream",
     "text": [
      "{\"rod_control\": \"first_push\"}\n"
     ]
    },
    {
     "name": "stderr",
     "output_type": "stream",
     "text": [
      "Exception in thread Thread-11390:\n",
      "Traceback (most recent call last):\n",
      "  File \"c:\\Users\\JIA\\AppData\\Local\\Programs\\Python\\Python310\\lib\\threading.py\", line 1016, in _bootstrap_inner\n",
      "    self.run()\n",
      "  File \"c:\\Users\\JIA\\AppData\\Local\\Programs\\Python\\Python310\\lib\\threading.py\", line 953, in run\n",
      "    self._target(*self._args, **self._kwargs)\n",
      "TypeError: 'MQTTMessageInfo' object is not callable\n"
     ]
    },
    {
     "name": "stdout",
     "output_type": "stream",
     "text": [
      "{\"rod_control\": \"first_pull\"}\n"
     ]
    },
    {
     "name": "stderr",
     "output_type": "stream",
     "text": [
      "Exception in thread Thread-11392:\n",
      "Traceback (most recent call last):\n",
      "  File \"c:\\Users\\JIA\\AppData\\Local\\Programs\\Python\\Python310\\lib\\threading.py\", line 1016, in _bootstrap_inner\n",
      "    self.run()\n",
      "  File \"c:\\Users\\JIA\\AppData\\Local\\Programs\\Python\\Python310\\lib\\threading.py\", line 953, in run\n",
      "    self._target(*self._args, **self._kwargs)\n",
      "TypeError: 'MQTTMessageInfo' object is not callable\n"
     ]
    },
    {
     "name": "stdout",
     "output_type": "stream",
     "text": [
      "{\"rod_control\": \"first_push\"}\n"
     ]
    },
    {
     "name": "stderr",
     "output_type": "stream",
     "text": [
      "Exception in thread Thread-11394:\n",
      "Traceback (most recent call last):\n",
      "  File \"c:\\Users\\JIA\\AppData\\Local\\Programs\\Python\\Python310\\lib\\threading.py\", line 1016, in _bootstrap_inner\n",
      "    self.run()\n",
      "  File \"c:\\Users\\JIA\\AppData\\Local\\Programs\\Python\\Python310\\lib\\threading.py\", line 953, in run\n",
      "    self._target(*self._args, **self._kwargs)\n",
      "TypeError: 'MQTTMessageInfo' object is not callable\n"
     ]
    },
    {
     "name": "stdout",
     "output_type": "stream",
     "text": [
      "{\"rod_control\": \"first_pull\"}\n"
     ]
    },
    {
     "name": "stderr",
     "output_type": "stream",
     "text": [
      "Exception in thread Thread-11396:\n",
      "Traceback (most recent call last):\n",
      "  File \"c:\\Users\\JIA\\AppData\\Local\\Programs\\Python\\Python310\\lib\\threading.py\", line 1016, in _bootstrap_inner\n",
      "    self.run()\n",
      "  File \"c:\\Users\\JIA\\AppData\\Local\\Programs\\Python\\Python310\\lib\\threading.py\", line 953, in run\n",
      "    self._target(*self._args, **self._kwargs)\n",
      "TypeError: 'MQTTMessageInfo' object is not callable\n"
     ]
    },
    {
     "name": "stdout",
     "output_type": "stream",
     "text": [
      "{\"rod_control\": \"first_push\"}\n"
     ]
    },
    {
     "name": "stderr",
     "output_type": "stream",
     "text": [
      "Exception in thread Thread-11398:\n",
      "Traceback (most recent call last):\n",
      "  File \"c:\\Users\\JIA\\AppData\\Local\\Programs\\Python\\Python310\\lib\\threading.py\", line 1016, in _bootstrap_inner\n",
      "    self.run()\n",
      "  File \"c:\\Users\\JIA\\AppData\\Local\\Programs\\Python\\Python310\\lib\\threading.py\", line 953, in run\n",
      "    self._target(*self._args, **self._kwargs)\n",
      "TypeError: 'MQTTMessageInfo' object is not callable\n"
     ]
    },
    {
     "name": "stdout",
     "output_type": "stream",
     "text": [
      "{\"rod_control\": \"first_pull\"}\n"
     ]
    },
    {
     "name": "stderr",
     "output_type": "stream",
     "text": [
      "Exception in thread Thread-11400:\n",
      "Traceback (most recent call last):\n",
      "  File \"c:\\Users\\JIA\\AppData\\Local\\Programs\\Python\\Python310\\lib\\threading.py\", line 1016, in _bootstrap_inner\n",
      "    self.run()\n",
      "  File \"c:\\Users\\JIA\\AppData\\Local\\Programs\\Python\\Python310\\lib\\threading.py\", line 953, in run\n",
      "    self._target(*self._args, **self._kwargs)\n",
      "TypeError: 'MQTTMessageInfo' object is not callable\n"
     ]
    },
    {
     "name": "stdout",
     "output_type": "stream",
     "text": [
      "{\"rod_control\": \"first_push\"}\n"
     ]
    },
    {
     "name": "stderr",
     "output_type": "stream",
     "text": [
      "Exception in thread Thread-11402:\n",
      "Traceback (most recent call last):\n",
      "  File \"c:\\Users\\JIA\\AppData\\Local\\Programs\\Python\\Python310\\lib\\threading.py\", line 1016, in _bootstrap_inner\n",
      "    self.run()\n",
      "  File \"c:\\Users\\JIA\\AppData\\Local\\Programs\\Python\\Python310\\lib\\threading.py\", line 953, in run\n",
      "    self._target(*self._args, **self._kwargs)\n",
      "TypeError: 'MQTTMessageInfo' object is not callable\n"
     ]
    },
    {
     "name": "stdout",
     "output_type": "stream",
     "text": [
      "{\"rod_control\": \"first_pull\"}\n"
     ]
    },
    {
     "name": "stderr",
     "output_type": "stream",
     "text": [
      "Exception in thread Thread-11404:\n",
      "Traceback (most recent call last):\n",
      "  File \"c:\\Users\\JIA\\AppData\\Local\\Programs\\Python\\Python310\\lib\\threading.py\", line 1016, in _bootstrap_inner\n",
      "    self.run()\n",
      "  File \"c:\\Users\\JIA\\AppData\\Local\\Programs\\Python\\Python310\\lib\\threading.py\", line 953, in run\n",
      "    self._target(*self._args, **self._kwargs)\n",
      "TypeError: 'MQTTMessageInfo' object is not callable\n"
     ]
    },
    {
     "name": "stdout",
     "output_type": "stream",
     "text": [
      "{\"rod_control\": \"first_push\"}\n"
     ]
    },
    {
     "name": "stderr",
     "output_type": "stream",
     "text": [
      "Exception in thread Thread-11406:\n",
      "Traceback (most recent call last):\n",
      "  File \"c:\\Users\\JIA\\AppData\\Local\\Programs\\Python\\Python310\\lib\\threading.py\", line 1016, in _bootstrap_inner\n",
      "    self.run()\n",
      "  File \"c:\\Users\\JIA\\AppData\\Local\\Programs\\Python\\Python310\\lib\\threading.py\", line 953, in run\n",
      "    self._target(*self._args, **self._kwargs)\n",
      "TypeError: 'MQTTMessageInfo' object is not callable\n"
     ]
    },
    {
     "name": "stdout",
     "output_type": "stream",
     "text": [
      "{\"rod_control\": \"first_pull\"}\n"
     ]
    },
    {
     "name": "stderr",
     "output_type": "stream",
     "text": [
      "Exception in thread Thread-11408:\n",
      "Traceback (most recent call last):\n",
      "  File \"c:\\Users\\JIA\\AppData\\Local\\Programs\\Python\\Python310\\lib\\threading.py\", line 1016, in _bootstrap_inner\n",
      "    self.run()\n",
      "  File \"c:\\Users\\JIA\\AppData\\Local\\Programs\\Python\\Python310\\lib\\threading.py\", line 953, in run\n",
      "    self._target(*self._args, **self._kwargs)\n",
      "TypeError: 'MQTTMessageInfo' object is not callable\n"
     ]
    },
    {
     "name": "stdout",
     "output_type": "stream",
     "text": [
      "{\"rod_control\": \"first_push\"}\n"
     ]
    },
    {
     "name": "stderr",
     "output_type": "stream",
     "text": [
      "Exception in thread Thread-11410:\n",
      "Traceback (most recent call last):\n",
      "  File \"c:\\Users\\JIA\\AppData\\Local\\Programs\\Python\\Python310\\lib\\threading.py\", line 1016, in _bootstrap_inner\n",
      "    self.run()\n",
      "  File \"c:\\Users\\JIA\\AppData\\Local\\Programs\\Python\\Python310\\lib\\threading.py\", line 953, in run\n",
      "    self._target(*self._args, **self._kwargs)\n",
      "TypeError: 'MQTTMessageInfo' object is not callable\n"
     ]
    },
    {
     "name": "stdout",
     "output_type": "stream",
     "text": [
      "{\"rod_control\": \"first_pull\"}\n"
     ]
    },
    {
     "name": "stderr",
     "output_type": "stream",
     "text": [
      "Exception in thread Thread-11412:\n",
      "Traceback (most recent call last):\n",
      "  File \"c:\\Users\\JIA\\AppData\\Local\\Programs\\Python\\Python310\\lib\\threading.py\", line 1016, in _bootstrap_inner\n",
      "    self.run()\n",
      "  File \"c:\\Users\\JIA\\AppData\\Local\\Programs\\Python\\Python310\\lib\\threading.py\", line 953, in run\n",
      "    self._target(*self._args, **self._kwargs)\n",
      "TypeError: 'MQTTMessageInfo' object is not callable\n"
     ]
    },
    {
     "name": "stdout",
     "output_type": "stream",
     "text": [
      "{\"rod_control\": \"first_push\"}\n"
     ]
    },
    {
     "name": "stderr",
     "output_type": "stream",
     "text": [
      "Exception in thread Thread-11414:\n",
      "Traceback (most recent call last):\n",
      "  File \"c:\\Users\\JIA\\AppData\\Local\\Programs\\Python\\Python310\\lib\\threading.py\", line 1016, in _bootstrap_inner\n",
      "    self.run()\n",
      "  File \"c:\\Users\\JIA\\AppData\\Local\\Programs\\Python\\Python310\\lib\\threading.py\", line 953, in run\n",
      "    self._target(*self._args, **self._kwargs)\n",
      "TypeError: 'MQTTMessageInfo' object is not callable\n"
     ]
    },
    {
     "name": "stdout",
     "output_type": "stream",
     "text": [
      "{\"rod_control\": \"first_pull\"}\n"
     ]
    },
    {
     "name": "stderr",
     "output_type": "stream",
     "text": [
      "Exception in thread Thread-11416:\n",
      "Traceback (most recent call last):\n",
      "  File \"c:\\Users\\JIA\\AppData\\Local\\Programs\\Python\\Python310\\lib\\threading.py\", line 1016, in _bootstrap_inner\n",
      "    self.run()\n",
      "  File \"c:\\Users\\JIA\\AppData\\Local\\Programs\\Python\\Python310\\lib\\threading.py\", line 953, in run\n",
      "    self._target(*self._args, **self._kwargs)\n",
      "TypeError: 'MQTTMessageInfo' object is not callable\n"
     ]
    },
    {
     "name": "stdout",
     "output_type": "stream",
     "text": [
      "{\"rod_control\": \"first_push\"}\n"
     ]
    },
    {
     "name": "stderr",
     "output_type": "stream",
     "text": [
      "Exception in thread Thread-11418:\n",
      "Traceback (most recent call last):\n",
      "  File \"c:\\Users\\JIA\\AppData\\Local\\Programs\\Python\\Python310\\lib\\threading.py\", line 1016, in _bootstrap_inner\n",
      "    self.run()\n",
      "  File \"c:\\Users\\JIA\\AppData\\Local\\Programs\\Python\\Python310\\lib\\threading.py\", line 953, in run\n",
      "    self._target(*self._args, **self._kwargs)\n",
      "TypeError: 'MQTTMessageInfo' object is not callable\n"
     ]
    },
    {
     "name": "stdout",
     "output_type": "stream",
     "text": [
      "{\"rod_control\": \"first_pull\"}\n"
     ]
    },
    {
     "name": "stderr",
     "output_type": "stream",
     "text": [
      "Exception in thread Thread-11420:\n",
      "Traceback (most recent call last):\n",
      "  File \"c:\\Users\\JIA\\AppData\\Local\\Programs\\Python\\Python310\\lib\\threading.py\", line 1016, in _bootstrap_inner\n",
      "    self.run()\n",
      "  File \"c:\\Users\\JIA\\AppData\\Local\\Programs\\Python\\Python310\\lib\\threading.py\", line 953, in run\n",
      "    self._target(*self._args, **self._kwargs)\n",
      "TypeError: 'MQTTMessageInfo' object is not callable\n"
     ]
    },
    {
     "name": "stdout",
     "output_type": "stream",
     "text": [
      "{\"rod_control\": \"first_push\"}\n"
     ]
    },
    {
     "name": "stderr",
     "output_type": "stream",
     "text": [
      "Exception in thread Thread-11422:\n",
      "Traceback (most recent call last):\n",
      "  File \"c:\\Users\\JIA\\AppData\\Local\\Programs\\Python\\Python310\\lib\\threading.py\", line 1016, in _bootstrap_inner\n",
      "    self.run()\n",
      "  File \"c:\\Users\\JIA\\AppData\\Local\\Programs\\Python\\Python310\\lib\\threading.py\", line 953, in run\n",
      "    self._target(*self._args, **self._kwargs)\n",
      "TypeError: 'MQTTMessageInfo' object is not callable\n"
     ]
    },
    {
     "name": "stdout",
     "output_type": "stream",
     "text": [
      "{\"rod_control\": \"first_pull\"}\n"
     ]
    },
    {
     "name": "stderr",
     "output_type": "stream",
     "text": [
      "Exception in thread Thread-11424:\n",
      "Traceback (most recent call last):\n",
      "  File \"c:\\Users\\JIA\\AppData\\Local\\Programs\\Python\\Python310\\lib\\threading.py\", line 1016, in _bootstrap_inner\n",
      "    self.run()\n",
      "  File \"c:\\Users\\JIA\\AppData\\Local\\Programs\\Python\\Python310\\lib\\threading.py\", line 953, in run\n",
      "    self._target(*self._args, **self._kwargs)\n",
      "TypeError: 'MQTTMessageInfo' object is not callable\n"
     ]
    },
    {
     "name": "stdout",
     "output_type": "stream",
     "text": [
      "{\"rod_control\": \"first_push\"}\n"
     ]
    },
    {
     "name": "stderr",
     "output_type": "stream",
     "text": [
      "Exception in thread Thread-11426:\n",
      "Traceback (most recent call last):\n",
      "  File \"c:\\Users\\JIA\\AppData\\Local\\Programs\\Python\\Python310\\lib\\threading.py\", line 1016, in _bootstrap_inner\n",
      "    self.run()\n",
      "  File \"c:\\Users\\JIA\\AppData\\Local\\Programs\\Python\\Python310\\lib\\threading.py\", line 953, in run\n",
      "    self._target(*self._args, **self._kwargs)\n",
      "TypeError: 'MQTTMessageInfo' object is not callable\n"
     ]
    },
    {
     "name": "stdout",
     "output_type": "stream",
     "text": [
      "{\"rod_control\": \"first_pull\"}\n"
     ]
    },
    {
     "name": "stderr",
     "output_type": "stream",
     "text": [
      "Exception in thread Thread-11428:\n",
      "Traceback (most recent call last):\n",
      "  File \"c:\\Users\\JIA\\AppData\\Local\\Programs\\Python\\Python310\\lib\\threading.py\", line 1016, in _bootstrap_inner\n",
      "    self.run()\n",
      "  File \"c:\\Users\\JIA\\AppData\\Local\\Programs\\Python\\Python310\\lib\\threading.py\", line 953, in run\n",
      "    self._target(*self._args, **self._kwargs)\n",
      "TypeError: 'MQTTMessageInfo' object is not callable\n"
     ]
    },
    {
     "name": "stdout",
     "output_type": "stream",
     "text": [
      "{\"rod_control\": \"first_push\"}\n"
     ]
    },
    {
     "name": "stderr",
     "output_type": "stream",
     "text": [
      "Exception in thread Thread-11430:\n",
      "Traceback (most recent call last):\n",
      "  File \"c:\\Users\\JIA\\AppData\\Local\\Programs\\Python\\Python310\\lib\\threading.py\", line 1016, in _bootstrap_inner\n",
      "    self.run()\n",
      "  File \"c:\\Users\\JIA\\AppData\\Local\\Programs\\Python\\Python310\\lib\\threading.py\", line 953, in run\n",
      "    self._target(*self._args, **self._kwargs)\n",
      "TypeError: 'MQTTMessageInfo' object is not callable\n"
     ]
    },
    {
     "name": "stdout",
     "output_type": "stream",
     "text": [
      "{\"rod_control\": \"first_pull\"}\n"
     ]
    },
    {
     "name": "stderr",
     "output_type": "stream",
     "text": [
      "Exception in thread Thread-11432:\n",
      "Traceback (most recent call last):\n",
      "  File \"c:\\Users\\JIA\\AppData\\Local\\Programs\\Python\\Python310\\lib\\threading.py\", line 1016, in _bootstrap_inner\n",
      "    self.run()\n",
      "  File \"c:\\Users\\JIA\\AppData\\Local\\Programs\\Python\\Python310\\lib\\threading.py\", line 953, in run\n",
      "    self._target(*self._args, **self._kwargs)\n",
      "TypeError: 'MQTTMessageInfo' object is not callable\n"
     ]
    },
    {
     "name": "stdout",
     "output_type": "stream",
     "text": [
      "{\"rod_control\": \"first_push\"}\n"
     ]
    },
    {
     "name": "stderr",
     "output_type": "stream",
     "text": [
      "Exception in thread Thread-11434:\n",
      "Traceback (most recent call last):\n",
      "  File \"c:\\Users\\JIA\\AppData\\Local\\Programs\\Python\\Python310\\lib\\threading.py\", line 1016, in _bootstrap_inner\n",
      "    self.run()\n",
      "  File \"c:\\Users\\JIA\\AppData\\Local\\Programs\\Python\\Python310\\lib\\threading.py\", line 953, in run\n",
      "    self._target(*self._args, **self._kwargs)\n",
      "TypeError: 'MQTTMessageInfo' object is not callable\n"
     ]
    },
    {
     "name": "stdout",
     "output_type": "stream",
     "text": [
      "{\"rod_control\": \"first_pull\"}\n"
     ]
    },
    {
     "name": "stderr",
     "output_type": "stream",
     "text": [
      "Exception in thread Thread-11436:\n",
      "Traceback (most recent call last):\n",
      "  File \"c:\\Users\\JIA\\AppData\\Local\\Programs\\Python\\Python310\\lib\\threading.py\", line 1016, in _bootstrap_inner\n",
      "    self.run()\n",
      "  File \"c:\\Users\\JIA\\AppData\\Local\\Programs\\Python\\Python310\\lib\\threading.py\", line 953, in run\n",
      "    self._target(*self._args, **self._kwargs)\n",
      "TypeError: 'MQTTMessageInfo' object is not callable\n"
     ]
    },
    {
     "name": "stdout",
     "output_type": "stream",
     "text": [
      "{\"rod_control\": \"first_push\"}\n"
     ]
    },
    {
     "name": "stderr",
     "output_type": "stream",
     "text": [
      "Exception in thread Thread-11438:\n",
      "Traceback (most recent call last):\n",
      "  File \"c:\\Users\\JIA\\AppData\\Local\\Programs\\Python\\Python310\\lib\\threading.py\", line 1016, in _bootstrap_inner\n",
      "    self.run()\n",
      "  File \"c:\\Users\\JIA\\AppData\\Local\\Programs\\Python\\Python310\\lib\\threading.py\", line 953, in run\n",
      "    self._target(*self._args, **self._kwargs)\n",
      "TypeError: 'MQTTMessageInfo' object is not callable\n"
     ]
    },
    {
     "name": "stdout",
     "output_type": "stream",
     "text": [
      "{\"rod_control\": \"first_pull\"}\n"
     ]
    },
    {
     "name": "stderr",
     "output_type": "stream",
     "text": [
      "Exception in thread Thread-11440:\n",
      "Traceback (most recent call last):\n",
      "  File \"c:\\Users\\JIA\\AppData\\Local\\Programs\\Python\\Python310\\lib\\threading.py\", line 1016, in _bootstrap_inner\n",
      "    self.run()\n",
      "  File \"c:\\Users\\JIA\\AppData\\Local\\Programs\\Python\\Python310\\lib\\threading.py\", line 953, in run\n",
      "    self._target(*self._args, **self._kwargs)\n",
      "TypeError: 'MQTTMessageInfo' object is not callable\n"
     ]
    },
    {
     "name": "stdout",
     "output_type": "stream",
     "text": [
      "{\"rod_control\": \"first_push\"}\n"
     ]
    },
    {
     "name": "stderr",
     "output_type": "stream",
     "text": [
      "Exception in thread Thread-11442:\n",
      "Traceback (most recent call last):\n",
      "  File \"c:\\Users\\JIA\\AppData\\Local\\Programs\\Python\\Python310\\lib\\threading.py\", line 1016, in _bootstrap_inner\n",
      "    self.run()\n",
      "  File \"c:\\Users\\JIA\\AppData\\Local\\Programs\\Python\\Python310\\lib\\threading.py\", line 953, in run\n",
      "    self._target(*self._args, **self._kwargs)\n",
      "TypeError: 'MQTTMessageInfo' object is not callable\n"
     ]
    },
    {
     "name": "stdout",
     "output_type": "stream",
     "text": [
      "{\"rod_control\": \"first_pull\"}\n"
     ]
    }
   ],
   "source": [
    "if __name__ == \"__main__\":\n",
    "    fs_iiota = FS_IIOTA(\"127.0.0.1\", \"http://127.0.0.1:8088/aisim_tf_pre\")    # 构造类FS_IIOTA的对象\n",
    "    fs_iiota.handle_mqtt_json_msg(5)    # 调用成员函数处理通过Mqtt发来的json消息"
   ]
  },
  {
   "cell_type": "code",
   "execution_count": null,
   "id": "1ffda8fe-51a5-4e35-92dd-bcf702ad7157",
   "metadata": {},
   "outputs": [],
   "source": []
  }
 ],
 "metadata": {
  "kernelspec": {
   "display_name": "Python 3 (ipykernel)",
   "language": "python",
   "name": "python3"
  },
  "language_info": {
   "codemirror_mode": {
    "name": "ipython",
    "version": 3
   },
   "file_extension": ".py",
   "mimetype": "text/x-python",
   "name": "python",
   "nbconvert_exporter": "python",
   "pygments_lexer": "ipython3",
   "version": "3.10.11"
  }
 },
 "nbformat": 4,
 "nbformat_minor": 5
}
