{
 "cells": [
  {
   "cell_type": "code",
   "execution_count": 1,
   "id": "c3864ad7-b36f-4c81-8228-830b18231007",
   "metadata": {},
   "outputs": [],
   "source": [
    "import io, os, sys, types\n",
    "from IPython import get_ipython\n",
    "from nbformat import read\n",
    "from IPython.core.interactiveshell import InteractiveShell\n",
    "def find_notebook(fullname, path=None):\n",
    "    \"\"\"find a notebook, given its fully qualified name and an optional path\n",
    "    \n",
    "    This turns \"foo.bar\" into \"foo/bar.ipynb\"\n",
    "    and tries turning \"Foo_Bar\" into \"Foo Bar\" if Foo_Bar\n",
    "    does not exist.\n",
    "    \"\"\"\n",
    "    name = fullname.rsplit('.', 1)[-1]\n",
    "    if not path:\n",
    "        path = ['']\n",
    "    for d in path:\n",
    "        nb_path = os.path.join(d, name + \".ipynb\")\n",
    "        if os.path.isfile(nb_path):\n",
    "            return nb_path\n",
    "        # let import Notebook_Name find \"Notebook Name.ipynb\"\n",
    "        nb_path = nb_path.replace(\"_\", \" \")\n",
    "        if os.path.isfile(nb_path):\n",
    "            return nb_path\n",
    "        \n",
    "class NotebookLoader(object):\n",
    "    \"\"\"Module Loader for Jupyter Notebooks\"\"\"\n",
    "    def __init__(self, path=None):\n",
    "        self.shell = InteractiveShell.instance()\n",
    "        self.path = path\n",
    "    \n",
    "    def load_module(self, fullname):\n",
    "        \"\"\"import a notebook as a module\"\"\"\n",
    "        path = find_notebook(fullname, self.path)\n",
    "        \n",
    "        print (\"importing Jupyter notebook from %s\" % path)\n",
    "                                       \n",
    "        # load the notebook object\n",
    "        with io.open(path, 'r', encoding='utf-8') as f:\n",
    "            nb = read(f, 4)\n",
    "        \n",
    "        \n",
    "        # create the module and add it to sys.modules\n",
    "        # if name in sys.modules:\n",
    "        #    return sys.modules[name]\n",
    "        mod = types.ModuleType(fullname)\n",
    "        mod.__file__ = path\n",
    "        mod.__loader__ = self\n",
    "        mod.__dict__['get_ipython'] = get_ipython\n",
    "        sys.modules[fullname] = mod\n",
    "        \n",
    "        # extra work to ensure that magics that would affect the user_ns\n",
    "        # actually affect the notebook module's ns\n",
    "        save_user_ns = self.shell.user_ns\n",
    "        self.shell.user_ns = mod.__dict__\n",
    "        \n",
    "        try:\n",
    "          for cell in nb.cells:\n",
    "            if cell.cell_type == 'code':\n",
    "                # transform the input to executable Python\n",
    "                code = self.shell.input_transformer_manager.transform_cell(cell.source)\n",
    "                # run the code in themodule\n",
    "                exec(code, mod.__dict__)\n",
    "        finally:\n",
    "            self.shell.user_ns = save_user_ns\n",
    "        return mod\n",
    "class NotebookFinder(object):\n",
    "    \"\"\"Module finder that locates Jupyter Notebooks\"\"\"\n",
    "    def __init__(self):\n",
    "        self.loaders = {}\n",
    "    \n",
    "    def find_module(self, fullname, path=None):\n",
    "        nb_path = find_notebook(fullname, path)\n",
    "        if not nb_path:\n",
    "            return\n",
    "        \n",
    "        key = path\n",
    "        if path:\n",
    "            # lists aren't hashable\n",
    "            key = os.path.sep.join(path)\n",
    "        \n",
    "        if key not in self.loaders:\n",
    "            self.loaders[key] = NotebookLoader(path)\n",
    "        return self.loaders[key]\n",
    "\n",
    "sys.meta_path.append(NotebookFinder())"
   ]
  },
  {
   "cell_type": "code",
   "execution_count": 2,
   "id": "dae61e16-fdfc-4b92-8ce3-3e4910bac20d",
   "metadata": {},
   "outputs": [],
   "source": [
    "# 导入库\n",
    "from flask import Flask, request\n",
    "from flask_cors import CORS\n",
    "import glob\n",
    "from queue import Queue\n",
    "import sys\n",
    "from mobilenetV3.model_v3 import mobilenet_v3_large\n",
    "import os\n",
    "import threading\n",
    "from PIL import Image\n",
    "from io import BytesIO\n",
    "import json\n",
    "import numpy as np\n",
    "import cv2\n",
    "import torch\n",
    "from torchvision import transforms\n",
    "import inspect # 查看执行代码所在行数"
   ]
  },
  {
   "cell_type": "code",
   "execution_count": 3,
   "id": "922e6caf-d65f-4565-a364-8dbaade65ae7",
   "metadata": {},
   "outputs": [],
   "source": [
    "# 定义消息队列\n",
    "picture_recognized = Queue(10)\n",
    "recognized_result = Queue(10)"
   ]
  },
  {
   "cell_type": "code",
   "execution_count": 4,
   "id": "8988eedb-3a8c-47fd-9832-9822879287d3",
   "metadata": {},
   "outputs": [],
   "source": [
    "# 预测函数\n",
    "def object_classify():\n",
    "    global picture_recognized\n",
    "    global recognized_result\n",
    "    class_indict = {}\n",
    "    num_classes = 0\n",
    "    # read class_indict\n",
    "    json_path = './class_indices.json'\n",
    "    assert os.path.exists(json_path), \"file: '{}' dose not exist.\".format(json_path)    # 确保class_indices.json存在\n",
    "    with open(json_path, \"r\") as fd_js: # 读class_indices.json,从中获取标签信息class_indict和标签数量num_classes\n",
    "        class_indict = json.load(fd_js) # json转为python对象\n",
    "        num_classes = len(class_indict.keys())  # 获得标签个数\n",
    "    # 加载MobileNetV3模型\n",
    "    model = mobilenet_v3_large(num_classes=num_classes)   # 根据标签数量构造mobilenet_v3_large模型\n",
    "    weights_path = 'save_weights/MobileNetV3_0.960.pth'\n",
    "    assert len(glob.glob(weights_path + \"*\")), \"cannot find {}\".format(weights_path)    # 确保权重文件存在的文件存在\n",
    "    model.load_state_dict(torch.load(weights_path, map_location='cpu'))\n",
    "    while True:\n",
    "        classify_img = picture_recognized.get()    # 获得要分类的图像(没数据的时候阻塞)\n",
    "        model.eval() # 重要！！！！！！！！！！！！！！！\n",
    "        with torch.no_grad():\n",
    "            output = torch.squeeze(model(classify_img)).cpu()\n",
    "            predict = torch.softmax(output, dim=0)\n",
    "            predict_cla = torch.argmax(predict)\n",
    "            print(\"predict:\",predict)\n",
    "            recognized_result.put([{\"label\": class_indict[str(int(predict_cla))]}])"
   ]
  },
  {
   "cell_type": "code",
   "execution_count": 5,
   "id": "b6da790d-2066-4211-b9cf-d34f2f07a4cf",
   "metadata": {},
   "outputs": [
    {
     "name": "stdout",
     "output_type": "stream",
     "text": [
      " * Serving Flask app '__main__'\n",
      " * Debug mode: off\n"
     ]
    },
    {
     "name": "stderr",
     "output_type": "stream",
     "text": [
      "WARNING: This is a development server. Do not use it in a production deployment. Use a production WSGI server instead.\n",
      " * Running on all addresses (0.0.0.0)\n",
      " * Running on http://127.0.0.1:8088\n",
      " * Running on http://172.16.27.42:8088\n",
      "Press CTRL+C to quit\n",
      "127.0.0.1 - - [08/Nov/2023 22:48:17] \"POST /aisim_tf_pre HTTP/1.1\" 200 -\n"
     ]
    },
    {
     "name": "stdout",
     "output_type": "stream",
     "text": [
      "predict: tensor([0.3866, 0.1407, 0.4727])\n"
     ]
    },
    {
     "name": "stderr",
     "output_type": "stream",
     "text": [
      "127.0.0.1 - - [08/Nov/2023 22:48:18] \"POST /aisim_tf_pre HTTP/1.1\" 200 -\n"
     ]
    },
    {
     "name": "stdout",
     "output_type": "stream",
     "text": [
      "predict: tensor([0.2918, 0.1881, 0.5201])\n"
     ]
    },
    {
     "name": "stderr",
     "output_type": "stream",
     "text": [
      "127.0.0.1 - - [08/Nov/2023 22:48:20] \"POST /aisim_tf_pre HTTP/1.1\" 200 -\n"
     ]
    },
    {
     "name": "stdout",
     "output_type": "stream",
     "text": [
      "predict: tensor([0.3304, 0.5201, 0.1495])\n"
     ]
    },
    {
     "name": "stderr",
     "output_type": "stream",
     "text": [
      "127.0.0.1 - - [08/Nov/2023 22:48:21] \"POST /aisim_tf_pre HTTP/1.1\" 200 -\n"
     ]
    },
    {
     "name": "stdout",
     "output_type": "stream",
     "text": [
      "predict: tensor([0.2657, 0.5996, 0.1347])\n"
     ]
    },
    {
     "name": "stderr",
     "output_type": "stream",
     "text": [
      "127.0.0.1 - - [08/Nov/2023 22:48:22] \"POST /aisim_tf_pre HTTP/1.1\" 200 -\n"
     ]
    },
    {
     "name": "stdout",
     "output_type": "stream",
     "text": [
      "predict: tensor([0.3565, 0.5161, 0.1274])\n"
     ]
    },
    {
     "name": "stderr",
     "output_type": "stream",
     "text": [
      "127.0.0.1 - - [08/Nov/2023 22:48:23] \"POST /aisim_tf_pre HTTP/1.1\" 200 -\n"
     ]
    },
    {
     "name": "stdout",
     "output_type": "stream",
     "text": [
      "predict: tensor([0.2486, 0.1629, 0.5885])\n"
     ]
    },
    {
     "name": "stderr",
     "output_type": "stream",
     "text": [
      "127.0.0.1 - - [08/Nov/2023 22:48:24] \"POST /aisim_tf_pre HTTP/1.1\" 200 -\n"
     ]
    },
    {
     "name": "stdout",
     "output_type": "stream",
     "text": [
      "predict: tensor([0.2614, 0.5813, 0.1573])\n"
     ]
    },
    {
     "name": "stderr",
     "output_type": "stream",
     "text": [
      "127.0.0.1 - - [08/Nov/2023 22:48:25] \"POST /aisim_tf_pre HTTP/1.1\" 200 -\n"
     ]
    },
    {
     "name": "stdout",
     "output_type": "stream",
     "text": [
      "predict: tensor([0.2459, 0.1565, 0.5976])\n"
     ]
    },
    {
     "name": "stderr",
     "output_type": "stream",
     "text": [
      "127.0.0.1 - - [08/Nov/2023 22:48:26] \"POST /aisim_tf_pre HTTP/1.1\" 200 -\n"
     ]
    },
    {
     "name": "stdout",
     "output_type": "stream",
     "text": [
      "predict: tensor([0.2690, 0.1535, 0.5775])\n"
     ]
    },
    {
     "name": "stderr",
     "output_type": "stream",
     "text": [
      "127.0.0.1 - - [08/Nov/2023 22:48:27] \"POST /aisim_tf_pre HTTP/1.1\" 200 -\n"
     ]
    },
    {
     "name": "stdout",
     "output_type": "stream",
     "text": [
      "predict: tensor([0.2959, 0.1974, 0.5067])\n"
     ]
    },
    {
     "name": "stderr",
     "output_type": "stream",
     "text": [
      "127.0.0.1 - - [08/Nov/2023 22:48:28] \"POST /aisim_tf_pre HTTP/1.1\" 200 -\n"
     ]
    },
    {
     "name": "stdout",
     "output_type": "stream",
     "text": [
      "predict: tensor([0.5267, 0.2644, 0.2089])\n"
     ]
    },
    {
     "name": "stderr",
     "output_type": "stream",
     "text": [
      "127.0.0.1 - - [08/Nov/2023 22:48:29] \"POST /aisim_tf_pre HTTP/1.1\" 200 -\n"
     ]
    },
    {
     "name": "stdout",
     "output_type": "stream",
     "text": [
      "predict: tensor([0.2480, 0.1091, 0.6430])\n"
     ]
    },
    {
     "name": "stderr",
     "output_type": "stream",
     "text": [
      "127.0.0.1 - - [08/Nov/2023 22:48:30] \"POST /aisim_tf_pre HTTP/1.1\" 200 -\n"
     ]
    },
    {
     "name": "stdout",
     "output_type": "stream",
     "text": [
      "predict: tensor([0.3515, 0.4576, 0.1908])\n"
     ]
    },
    {
     "name": "stderr",
     "output_type": "stream",
     "text": [
      "127.0.0.1 - - [08/Nov/2023 22:48:31] \"POST /aisim_tf_pre HTTP/1.1\" 200 -\n"
     ]
    },
    {
     "name": "stdout",
     "output_type": "stream",
     "text": [
      "predict: tensor([0.2218, 0.1518, 0.6264])\n"
     ]
    },
    {
     "name": "stderr",
     "output_type": "stream",
     "text": [
      "127.0.0.1 - - [08/Nov/2023 22:48:32] \"POST /aisim_tf_pre HTTP/1.1\" 200 -\n"
     ]
    },
    {
     "name": "stdout",
     "output_type": "stream",
     "text": [
      "predict: tensor([0.3097, 0.4870, 0.2032])\n"
     ]
    },
    {
     "name": "stderr",
     "output_type": "stream",
     "text": [
      "127.0.0.1 - - [08/Nov/2023 22:48:33] \"POST /aisim_tf_pre HTTP/1.1\" 200 -\n"
     ]
    },
    {
     "name": "stdout",
     "output_type": "stream",
     "text": [
      "predict: tensor([0.3171, 0.5511, 0.1318])\n"
     ]
    }
   ],
   "source": [
    "if __name__ == \"__main__\":\n",
    "    data_transform = transforms.Compose(\n",
    "        [transforms.Resize(256),\n",
    "         transforms.CenterCrop(224),\n",
    "         transforms.ToTensor(),\n",
    "         transforms.Normalize([0.485, 0.456, 0.406], [0.229, 0.224, 0.225])])\n",
    "    im_height = 224\n",
    "    im_width = 224\n",
    "    # 开启预测函数的线程t_object_classify\n",
    "    t_object_classify = threading.Thread(target=object_classify)\n",
    "    t_object_classify.start()\n",
    "    # 完成后端\n",
    "    app = Flask(__name__)\n",
    "    \"\"\"\n",
    "    跨域的作用:\n",
    "    前端能够直接访问它的后端,但其他后端不能直接访问某一特定后端,这个时候就需要跨域技术来使其他后端能够直接访问这个特定的后端\n",
    "    (BS架构(B浏览器S服务器)需要后端访问后端)\n",
    "    \"\"\"\n",
    "    CORS(app, supports_credentials=True)    # 支持跨域\n",
    "    @app.route(\"/aisim_tf_pre\", methods=[\"POST\"])  # 指定路由(POST:访问方式)\n",
    "    def get_picture_post_result():\n",
    "        global picture_recognized\n",
    "        global recognized_result\n",
    "        upload = request.get_data() # 获得原始数据\n",
    "        if upload:\n",
    "            try:\n",
    "                byte_stream = BytesIO(upload)   # 将获得数据放入到内存中\n",
    "                img = Image.open(byte_stream)   # 使用上述内存获得相应的Image对象\n",
    "                # img.save(f\"./img/{id(img)}.png\") 图片都是完整的\n",
    "                img = data_transform(img)\n",
    "                img = torch.unsqueeze(img, dim=0)\n",
    "                picture_recognized.put(img)  # 将要识别的图像(bgr)塞入到队列picture_recognized中\n",
    "                res = json.dumps({\"results\": recognized_result.get()})  # 以阻塞方式获得识别结果,并将识别结果转为json\n",
    "            except Exception as e:\n",
    "                return json.dumps({\"results\": [], \"error\": e})  # 有异常,就返回代表错误的json\n",
    "            return res  # 返回含有识别结果的json\n",
    "    app.run(host=\"0.0.0.0\", port=8088, debug=False) # 类似于开了一个线程"
   ]
  }
 ],
 "metadata": {
  "kernelspec": {
   "display_name": "Python 3 (ipykernel)",
   "language": "python",
   "name": "python3"
  },
  "language_info": {
   "codemirror_mode": {
    "name": "ipython",
    "version": 3
   },
   "file_extension": ".py",
   "mimetype": "text/x-python",
   "name": "python",
   "nbconvert_exporter": "python",
   "pygments_lexer": "ipython3",
   "version": "3.10.11"
  }
 },
 "nbformat": 4,
 "nbformat_minor": 5
}
