{
 "cells": [
  {
   "cell_type": "code",
   "execution_count": null,
   "id": "dbec7c82-a200-4f99-82a9-6e7e18e01afa",
   "metadata": {},
   "outputs": [],
   "source": [
    "启动后sleep(3)\n",
    "    stack_rod:设置3.5s定时器，推出货物，设置为push状态，启动定时器。定时器用于调用handle_timer_statck_rod。然后就反复调用自己"
   ]
  }
 ],
 "metadata": {
  "kernelspec": {
   "display_name": "Python 3 (ipykernel)",
   "language": "python",
   "name": "python3"
  },
  "language_info": {
   "codemirror_mode": {
    "name": "ipython",
    "version": 3
   },
   "file_extension": ".py",
   "mimetype": "text/x-python",
   "name": "python",
   "nbconvert_exporter": "python",
   "pygments_lexer": "ipython3",
   "version": "3.8.0"
  }
 },
 "nbformat": 4,
 "nbformat_minor": 5
}
